{
 "cells": [
  {
   "cell_type": "markdown",
   "id": "2754dab6-c7d3-4029-b564-f81f25eb215d",
   "metadata": {},
   "source": [
    "# Pyramid "
   ]
  },
  {
   "cell_type": "code",
   "execution_count": 32,
   "id": "7254adbb-bf98-4b17-b3ec-550619eb8452",
   "metadata": {},
   "outputs": [
    {
     "name": "stdin",
     "output_type": "stream",
     "text": [
      "Enter no of rows:  10\n"
     ]
    },
    {
     "name": "stdout",
     "output_type": "stream",
     "text": [
      "*\n",
      "**\n",
      "***\n",
      "****\n",
      "*****\n",
      "******\n",
      "*******\n",
      "********\n",
      "*********\n",
      "**********\n"
     ]
    }
   ],
   "source": [
    "P1 = int(input(\"Enter no of rows: \"))\n",
    "for i in range(1, P1 + 1):\n",
    "    print('*' * i)"
   ]
  },
  {
   "cell_type": "code",
   "execution_count": 34,
   "id": "7a963587-b6c3-494a-b04a-f0a07ab3a4dc",
   "metadata": {},
   "outputs": [
    {
     "name": "stdin",
     "output_type": "stream",
     "text": [
      "Enter no of rows:  10\n"
     ]
    },
    {
     "name": "stdout",
     "output_type": "stream",
     "text": [
      "         *\n",
      "        **\n",
      "       ***\n",
      "      ****\n",
      "     *****\n",
      "    ******\n",
      "   *******\n",
      "  ********\n",
      " *********\n",
      "**********\n"
     ]
    }
   ],
   "source": [
    "P2 = int(input(\"Enter no of rows: \"))\n",
    "for i in range(1, P2 + 1):\n",
    "    print(' ' * (P2 - i) + '*' * i)"
   ]
  },
  {
   "cell_type": "code",
   "execution_count": 36,
   "id": "0906c422-ec67-45e9-8772-ad226e95e83e",
   "metadata": {},
   "outputs": [
    {
     "name": "stdin",
     "output_type": "stream",
     "text": [
      "Enter no of rows:  10\n"
     ]
    },
    {
     "name": "stdout",
     "output_type": "stream",
     "text": [
      "         *\n",
      "        ***\n",
      "       *****\n",
      "      *******\n",
      "     *********\n",
      "    ***********\n",
      "   *************\n",
      "  ***************\n",
      " *****************\n",
      "*******************\n"
     ]
    }
   ],
   "source": [
    "P3 = int(input(\"Enter no of rows: \"))\n",
    "for i in range(1, P3 + 1):\n",
    "    print(' ' * (P3 - i) + '*' * ( 2*i - 1))"
   ]
  },
  {
   "cell_type": "code",
   "execution_count": null,
   "id": "fd19ff31-3383-400f-abd4-6d454ad09257",
   "metadata": {},
   "outputs": [],
   "source": []
  }
 ],
 "metadata": {
  "kernelspec": {
   "display_name": "Python 3 (ipykernel)",
   "language": "python",
   "name": "python3"
  },
  "language_info": {
   "codemirror_mode": {
    "name": "ipython",
    "version": 3
   },
   "file_extension": ".py",
   "mimetype": "text/x-python",
   "name": "python",
   "nbconvert_exporter": "python",
   "pygments_lexer": "ipython3",
   "version": "3.12.4"
  }
 },
 "nbformat": 4,
 "nbformat_minor": 5
}
